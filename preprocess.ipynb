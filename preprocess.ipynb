{
 "cells": [
  {
   "cell_type": "code",
   "execution_count": 1,
   "id": "083ccca2-c565-45b2-92f3-fc39ee1ea75f",
   "metadata": {},
   "outputs": [],
   "source": [
    "#preprocesser"
   ]
  },
  {
   "cell_type": "code",
   "execution_count": 2,
   "id": "61cff6d8-42db-4619-86df-76568bcd83cd",
   "metadata": {},
   "outputs": [],
   "source": [
    "import librosa\n",
    "import matplotlib.pyplot as plt\n",
    "import numpy as np\n",
    "import cv2\n",
    "import os\n",
    "from PIL import Image, ImageOps"
   ]
  },
  {
   "cell_type": "code",
   "execution_count": 3,
   "id": "a4a9babc-0851-4f70-ba6a-f23c184a6e7d",
   "metadata": {},
   "outputs": [],
   "source": [
    "class Loader:\n",
    "    \n",
    "    def __init__(self):\n",
    "        self = self\n",
    "        \n",
    "    def load(self, img_path):\n",
    "        im = Image.open(img_path)\n",
    "        return im    "
   ]
  },
  {
   "cell_type": "code",
   "execution_count": 4,
   "id": "1e610448-0b7d-4670-8211-53c13bac7077",
   "metadata": {},
   "outputs": [],
   "source": [
    "class Img_process:\n",
    "    \n",
    "    def __init__(self):\n",
    "        self = self\n",
    "    \n",
    "    def Img_process(im):    \n",
    "        #im = Image.open(img_path)\n",
    "        im1 = np.array(ImageOps.grayscale(im))\n",
    "        resized_img = cv2.resize(im1, dsize = [128, 128], interpolation = cv2.INTER_AREA)\n",
    "        norm_img = cv2.normalize(resized_img, None, 0, 100, cv2.NORM_MINMAX)\n",
    "    \n",
    "        return norm_img\n"
   ]
  },
  {
   "cell_type": "code",
   "execution_count": 5,
   "id": "f4e7946c-a00b-4545-99a1-8d9eac00ee05",
   "metadata": {},
   "outputs": [],
   "source": [
    "class Label_array:\n",
    "    \n",
    "    #image,label\n",
    "    def __init__(self):\n",
    "        self = self\n",
    "        \n",
    "    def parse_file_name(self, file_path: str):\n",
    "        filename = file_path.split(\"/\")[-1]\n",
    "        label = int(filename.split(\"-\")[1])\n",
    "        return label, filename\n",
    "    \n",
    "    def labeling(self, label, processed_img):\n",
    "        labeled_img = append.processed_img        \n",
    "        return labeled_img  \n",
    "    "
   ]
  },
  {
   "cell_type": "code",
   "execution_count": 6,
   "id": "4bb301f4-09c2-48be-bcd4-cffea4cbc155",
   "metadata": {},
   "outputs": [],
   "source": [
    "class Saver:\n",
    "    \"\"\" saver is responsible to save features \"\"\"\n",
    "\n",
    "    def __init__(self, feature_save_dir):\n",
    "        self.feature_save_dir = feature_save_dir\n",
    "\n",
    "    def save_feature(self, feature, file_path):\n",
    "        save_path = self._generate_save_path(file_path)\n",
    "        np.save(save_path, feature)\n",
    "\n",
    "    \n",
    "    def _save(data, save_path):\n",
    "        with open(save_path, \"wb\") as f:\n",
    "            pickle.dump(data, f)\n",
    "\n",
    "    def _generate_save_path(self, file_path):\n",
    "        file_name = os.path.split(file_path)[1]\n",
    "        save_path = os.path.join(self.feature_save_dir, file_name + \".npy\")\n",
    "        return save_path\n",
    "    "
   ]
  },
  {
   "cell_type": "code",
   "execution_count": 7,
   "id": "c05852e5-6b03-4f94-965e-845e2ccf4e54",
   "metadata": {},
   "outputs": [],
   "source": [
    "class PreprocessingPipeline:\n",
    "    \n",
    "    def __init__(self):\n",
    "        self._img_process = None\n",
    "        self.labeler = None\n",
    "        self.parcer = None\n",
    "        self.saver = None\n",
    "        self._loader = None\n",
    "        \n",
    "    def loader(self):\n",
    "        return self._loader\n",
    " \n",
    "    \n",
    "    def process(self, audio_files_dir):\n",
    "        for root, _, files in os.walk(audio_files_dir):\n",
    "            for file in files:\n",
    "                file_path = os.path.join(root, file)\n",
    "                self._process_file(file_path)\n",
    "                print(f\"Processed file {file_path}\")\n",
    "    \n",
    "    def _process_file(self, file_path):\n",
    "        im = self.loader.load(file_path)\n",
    "        img_array = self._img_process.process(im)\n",
    "        parced_fn = self.parcer.parse_file_name(file_path)\n",
    "        labeled_img = self.labeler.labeling(parced_fn, img_array)\n",
    "        save_path = self.saver.save_feature(labeled_img, file_path)     \n",
    "        \n",
    "    "
   ]
  },
  {
   "cell_type": "code",
   "execution_count": 8,
   "id": "ec5dc01d-855e-463f-84c5-dd16d87b22d2",
   "metadata": {},
   "outputs": [],
   "source": [
    "if __name__ == \"__main__\":\n",
    "\n",
    "    IMAGE_SAVE_DIR = \"Desktop/1\"\n",
    "    FILES_DIR = \"img_processed\"\n",
    "\n",
    "    # instantiate all objects\n",
    "    loader = Loader()\n",
    "    imgprocess = Img_process()\n",
    "    labeler = Label_array()\n",
    "    saver = Saver(IMAGE_SAVE_DIR)\n",
    "\n",
    "    preprocessing_pipeline = PreprocessingPipeline()\n",
    "    preprocessing_pipeline.loader = loader\n",
    "    preprocessing_pipeline._img_process = imgprocess\n",
    "    preprocessing_pipeline.labeler = labeler\n",
    "    preprocessing_pipeline.saver = saver\n",
    "\n",
    "    preprocessing_pipeline.process(FILES_DIR)"
   ]
  }
 ],
 "metadata": {
  "kernelspec": {
   "display_name": "Python 3 (ipykernel)",
   "language": "python",
   "name": "python3"
  },
  "language_info": {
   "codemirror_mode": {
    "name": "ipython",
    "version": 3
   },
   "file_extension": ".py",
   "mimetype": "text/x-python",
   "name": "python",
   "nbconvert_exporter": "python",
   "pygments_lexer": "ipython3",
   "version": "3.9.12"
  }
 },
 "nbformat": 4,
 "nbformat_minor": 5
}
