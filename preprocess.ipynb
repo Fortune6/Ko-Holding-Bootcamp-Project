{
 "cells": [
  {
   "cell_type": "code",
   "execution_count": 220,
   "id": "083ccca2-c565-45b2-92f3-fc39ee1ea75f",
   "metadata": {},
   "outputs": [],
   "source": [
    "#preprocesser"
   ]
  },
  {
   "cell_type": "code",
   "execution_count": 221,
   "id": "61cff6d8-42db-4619-86df-76568bcd83cd",
   "metadata": {},
   "outputs": [],
   "source": [
    "import librosa\n",
    "import matplotlib.pyplot as plt\n",
    "import numpy as np\n",
    "import cv2\n",
    "from PIL import Image"
   ]
  },
  {
   "cell_type": "code",
   "execution_count": 222,
   "id": "a4a9babc-0851-4f70-ba6a-f23c184a6e7d",
   "metadata": {},
   "outputs": [],
   "source": [
    "class Loader:\n",
    "    \n",
    "    def load(file_path):\n",
    "        np_array = np.load(file_path)\n",
    "        return np_array    "
   ]
  },
  {
   "cell_type": "code",
   "execution_count": 223,
   "id": "1e610448-0b7d-4670-8211-53c13bac7077",
   "metadata": {},
   "outputs": [],
   "source": [
    "class Img_process:\n",
    "    \n",
    "    #including resize and normalization\n",
    "    def __init__(self, np_array):\n",
    "        self.np_array = np_array\n",
    "        self.img = img\n",
    "        self.resized_img = resized_img\n",
    "        \n",
    "    def gray_img(np_array):\n",
    "        gray_img = plt.imshow(np_array, cmap='gray')\n",
    "        return gray_img\n",
    "        \n",
    "    def resize(gray_img):\n",
    "        #img = Image.fromarray(np_array.astype(np.uint8))\n",
    "        #img1 = cv2.IMREAD_GRAYSCALE(gray_img)\n",
    "        img_array = np.array(gray_img, dtype = \"uint8\") \n",
    "        resized_img = cv2.resize(img_array, 64, 64, interpolation = cv2.INTER_AREA)\n",
    "        return resized_img\n",
    "    \n",
    "    def normalize(resized_img):\n",
    "        src = cv2.imread(resized_img)\n",
    "        norm1 = cv2.normalize(src, None, 0, 1, cv2.NORM_MINMAX)\n",
    "        return norm1\n",
    "        \n",
    "    def process(np_array):\n",
    "        #np_array = np.load(file_path)\n",
    "        img = Img_process.gray_img(np_array)\n",
    "        resized_img = Img_process.resize(img)\n",
    "        normalized_img = Img_process.normalize(resized_img)\n",
    "        return processed_img"
   ]
  },
  {
   "cell_type": "code",
   "execution_count": 227,
   "id": "36c354eb-4467-434c-a159-e39693606539",
   "metadata": {},
   "outputs": [
    {
     "name": "stdout",
     "output_type": "stream",
     "text": [
      "[[-80.      -80.      -80.      ... -80.      -80.      -80.     ]\n",
      " [-80.      -80.      -80.      ... -80.      -80.      -80.     ]\n",
      " [-80.      -76.40078 -75.38676 ... -80.      -80.      -80.     ]\n",
      " ...\n",
      " [-80.      -80.      -80.      ... -80.      -80.      -80.     ]\n",
      " [-80.      -80.      -80.      ... -80.      -80.      -80.     ]\n",
      " [-80.      -80.      -80.      ... -80.      -80.      -80.     ]]\n"
     ]
    },
    {
     "ename": "error",
     "evalue": "OpenCV(4.6.0) :-1: error: (-5:Bad argument) in function 'resize'\n> Overload resolution failed:\n>  - Can't parse 'dsize'. Input argument doesn't provide sequence protocol\n>  - Can't parse 'dsize'. Input argument doesn't provide sequence protocol\n",
     "output_type": "error",
     "traceback": [
      "\u001b[1;31m---------------------------------------------------------------------------\u001b[0m",
      "\u001b[1;31merror\u001b[0m                                     Traceback (most recent call last)",
      "Input \u001b[1;32mIn [227]\u001b[0m, in \u001b[0;36m<cell line: 5>\u001b[1;34m()\u001b[0m\n\u001b[0;32m      3\u001b[0m n1 \u001b[38;5;241m=\u001b[39m np\u001b[38;5;241m.\u001b[39mshape(np_array)\n\u001b[0;32m      4\u001b[0m gray_img  \u001b[38;5;241m=\u001b[39m Img_process\u001b[38;5;241m.\u001b[39mgray_img(np_array)\n\u001b[1;32m----> 5\u001b[0m resized_img \u001b[38;5;241m=\u001b[39m \u001b[43mImg_process\u001b[49m\u001b[38;5;241;43m.\u001b[39;49m\u001b[43mresize\u001b[49m\u001b[43m(\u001b[49m\u001b[43mnp_array\u001b[49m\u001b[43m)\u001b[49m\n\u001b[0;32m      6\u001b[0m norm1 \u001b[38;5;241m=\u001b[39m normalize(resized_img)\n\u001b[0;32m      7\u001b[0m \u001b[38;5;28mprint\u001b[39m(gray_img)\n",
      "Input \u001b[1;32mIn [223]\u001b[0m, in \u001b[0;36mImg_process.resize\u001b[1;34m(gray_img)\u001b[0m\n\u001b[0;32m     13\u001b[0m \u001b[38;5;28;01mdef\u001b[39;00m \u001b[38;5;21mresize\u001b[39m(gray_img):\n\u001b[0;32m     14\u001b[0m     \u001b[38;5;66;03m#img = Image.fromarray(np_array.astype(np.uint8))\u001b[39;00m\n\u001b[0;32m     15\u001b[0m     \u001b[38;5;66;03m#img1 = cv2.IMREAD_GRAYSCALE(gray_img)\u001b[39;00m\n\u001b[0;32m     16\u001b[0m     img_array \u001b[38;5;241m=\u001b[39m np\u001b[38;5;241m.\u001b[39marray(gray_img, dtype \u001b[38;5;241m=\u001b[39m \u001b[38;5;124m\"\u001b[39m\u001b[38;5;124muint8\u001b[39m\u001b[38;5;124m\"\u001b[39m) \n\u001b[1;32m---> 17\u001b[0m     resized_img \u001b[38;5;241m=\u001b[39m \u001b[43mcv2\u001b[49m\u001b[38;5;241;43m.\u001b[39;49m\u001b[43mresize\u001b[49m\u001b[43m(\u001b[49m\u001b[43mimg_array\u001b[49m\u001b[43m,\u001b[49m\u001b[43m \u001b[49m\u001b[38;5;241;43m64\u001b[39;49m\u001b[43m,\u001b[49m\u001b[43m \u001b[49m\u001b[38;5;241;43m64\u001b[39;49m\u001b[43m,\u001b[49m\u001b[43m \u001b[49m\u001b[43minterpolation\u001b[49m\u001b[43m \u001b[49m\u001b[38;5;241;43m=\u001b[39;49m\u001b[43m \u001b[49m\u001b[43mcv2\u001b[49m\u001b[38;5;241;43m.\u001b[39;49m\u001b[43mINTER_AREA\u001b[49m\u001b[43m)\u001b[49m\n\u001b[0;32m     18\u001b[0m     \u001b[38;5;28;01mreturn\u001b[39;00m resized_img\n",
      "\u001b[1;31merror\u001b[0m: OpenCV(4.6.0) :-1: error: (-5:Bad argument) in function 'resize'\n> Overload resolution failed:\n>  - Can't parse 'dsize'. Input argument doesn't provide sequence protocol\n>  - Can't parse 'dsize'. Input argument doesn't provide sequence protocol\n"
     ]
    },
    {
     "data": {
      "image/png": "[encoded data removed]",
      "text/plain": [
       "<Figure size 432x288 with 1 Axes>"
      ]
     },
     "metadata": {
      "needs_background": "light"
     },
     "output_type": "display_data"
    }
   ],
   "source": [
    "np_array = Loader.load(\"spec_save/7383-3-0-0.wav.npy\")\n",
    "print(np_array)\n",
    "n1 = np.shape(np_array)\n",
    "gray_img  = Img_process.gray_img(np_array)\n",
    "resized_img = Img_process.resize(np_array)\n",
    "norm1 = normalize(resized_img)\n",
    "print(gray_img)\n",
    "print(resized_img)\n",
    "print(norm1)"
   ]
  },
  {
   "cell_type": "code",
   "execution_count": null,
   "id": "f4e7946c-a00b-4545-99a1-8d9eac00ee05",
   "metadata": {},
   "outputs": [],
   "source": [
    "class Label_array:\n",
    "    \n",
    "    #image,label\n",
    "    def __init__(self, file_path, processed_img):\n",
    "        self.file_path = file_path\n",
    "        self.processed_img = processed_img\n",
    "        \n",
    "    def parse_file_name(self, file_path: str):\n",
    "        filename = file_path.split(\"/\")[-1]\n",
    "        label = int(filename.split(\"-\")[1])\n",
    "        return label, filename\n",
    "    \n",
    "    def labeling(self, label, processed_img):\n",
    "        labeled_img = append.processed_img        \n",
    "        return labeled_img  \n",
    "    "
   ]
  },
  {
   "cell_type": "code",
   "execution_count": null,
   "id": "4bb301f4-09c2-48be-bcd4-cffea4cbc155",
   "metadata": {},
   "outputs": [],
   "source": [
    "class Saver:\n",
    "    \"\"\" saver is responsible to save features \"\"\"\n",
    "\n",
    "    def __init__(self, feature_save_dir):\n",
    "        self.feature_save_dir = feature_save_dir\n",
    "\n",
    "    def save_feature(self, feature, file_path):\n",
    "        save_path = self._generate_save_path(file_path)\n",
    "        np.save(save_path, feature)\n",
    "\n",
    "    \n",
    "    def _save(data, save_path):\n",
    "        with open(save_path, \"wb\") as f:\n",
    "            pickle.dump(data, f)\n",
    "\n",
    "    def _generate_save_path(self, file_path):\n",
    "        file_name = os.path.split(file_path)[1]\n",
    "        save_path = os.path.join(self.feature_save_dir, file_name + \".npy\")\n",
    "        return save_path\n",
    "    "
   ]
  },
  {
   "cell_type": "code",
   "execution_count": null,
   "id": "c05852e5-6b03-4f94-965e-845e2ccf4e54",
   "metadata": {},
   "outputs": [],
   "source": [
    "class PreprocessingPipeline:\n",
    "    \n",
    "    def __init__(self):\n",
    "        self._img_process = None\n",
    "        self.labeler = None\n",
    "        self.saver = None\n",
    "        self._loader = None\n",
    "        \n",
    "    def loader(self):\n",
    "        return self._loader\n",
    " \n",
    "    \n",
    "    def process:\n",
    "        for root, _, files in os.walk(audio_files_dir):\n",
    "            for file in files:\n",
    "                file_path = os.path.join(root, file)\n",
    "                self._process_file(file_path)\n",
    "                print(f\"Processed file {file_path}\")\n",
    "    \n",
    "    def _process_file:\n",
    "        np_array = self.loader.load(file_path)\n",
    "        img = self._img_process.process(np_array)\n",
    "        labeled_img = self.labeler.labeling(img)\n",
    "        save_path = self.saver.save_feature(labeled_img, file_path)     \n",
    "        \n",
    "    "
   ]
  },
  {
   "cell_type": "code",
   "execution_count": null,
   "id": "ec5dc01d-855e-463f-84c5-dd16d87b22d2",
   "metadata": {},
   "outputs": [],
   "source": [
    "if __name__ is \"__main__\":\n",
    "\n",
    "    IMAGE_SAVE_DIR = \"Desktop/spectrograms\"\n",
    "    FILES_DIR = \"demo\"\n",
    "\n",
    "    # instantiate all objects\n",
    "    loader = Loader()\n",
    "    imgprocess = Img_process()\n",
    "    labeler = Label_array(file_path, processed_img)\n",
    "    saver = Saver(IMAGE_SAVE_DIR)\n",
    "\n",
    "    preprocessing_pipeline = PreprocessingPipeline()\n",
    "    preprocessing_pipeline.loader = loader\n",
    "    preprocessing_pipeline._img_process = imgprocess\n",
    "    preprocessing_pipeline.labeler = labeler\n",
    "    preprocessing_pipeline.saver = saver\n",
    "\n",
    "    preprocessing_pipeline.process(FILES_DIR)"
   ]
  }
 ],
 "metadata": {
  "kernelspec": {
   "display_name": "Python 3 (ipykernel)",
   "language": "python",
   "name": "python3"
  },
  "language_info": {
   "codemirror_mode": {
    "name": "ipython",
    "version": 3
   },
   "file_extension": ".py",
   "mimetype": "text/x-python",
   "name": "python",
   "nbconvert_exporter": "python",
   "pygments_lexer": "ipython3",
   "version": "3.9.12"
  }
 },
 "nbformat": 4,
 "nbformat_minor": 5
}
