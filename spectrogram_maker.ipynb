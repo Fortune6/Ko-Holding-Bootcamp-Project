{
 "cells": [
  {
   "cell_type": "code",
   "execution_count": 1,
   "id": "66d8bc33-c8bb-4f2d-8fdf-f4f3ed6c29d7",
   "metadata": {},
   "outputs": [],
   "source": [
    "#spectrogram processer2"
   ]
  },
  {
   "cell_type": "code",
   "execution_count": 2,
   "id": "6d62b1e6-1994-4b03-bac2-d0e5ee2e866e",
   "metadata": {},
   "outputs": [],
   "source": [
    "import librosa\n",
    "import pandas\n",
    "import matplotlib.pyplot as plt\n",
    "import os\n",
    "import pickle\n",
    "import librosa\n",
    "import numpy as np\n",
    "import json\n",
    "import librosa.display\n",
    "import IPython.display as ipd"
   ]
  },
  {
   "cell_type": "code",
   "execution_count": 3,
   "id": "9bb690af-f60d-4bb0-887c-8b2ec5c5a29f",
   "metadata": {},
   "outputs": [],
   "source": [
    "class Loader:\n",
    "    \"\"\"Loader is responsible for loading an audio file.\"\"\"\n",
    "\n",
    "    def __init__(self, sample_rate, mono):\n",
    "        self.sample_rate = sample_rate\n",
    "        self.mono = mono\n",
    "\n",
    "    def load(self, file_path):\n",
    "        signal = librosa.load(file_path,\n",
    "                              sr=self.sample_rate,\n",
    "                              mono=self.mono)[0]\n",
    "        return signal   \n"
   ]
  },
  {
   "cell_type": "code",
   "execution_count": 4,
   "id": "fe5cda73-f6d9-4ded-8246-acaa258723df",
   "metadata": {},
   "outputs": [],
   "source": [
    "class MelSpectrogramExtractor:\n",
    "    \"\"\" extracts mel spectograms (in db) from a time series signal \"\"\"\n",
    "    def __init__(self, frame_size, hop_length):\n",
    "        self.frame_size = frame_size\n",
    "        self.hop_length = hop_length\n",
    "        \n",
    "    def extract(self, signal):\n",
    "        spec = librosa.feature.melspectrogram(y = signal)\n",
    "        mel_spectrogram = librosa.amplitude_to_db(spec, ref = np.max)\n",
    "        return mel_spectrogram"
   ]
  },
  {
   "cell_type": "code",
   "execution_count": 5,
   "id": "9d89e219-5969-484b-bde7-0930477ffeb6",
   "metadata": {},
   "outputs": [],
   "source": [
    "class Saver:\n",
    "    \"\"\"saver is responsible to save features, and the min max values.\"\"\"\n",
    "\n",
    "    def __init__(self, feature_save_dir):\n",
    "        self.feature_save_dir = feature_save_dir\n",
    "\n",
    "    def save_feature(self, feature, file_path):\n",
    "        save_path = self._generate_save_path(file_path)\n",
    "        np.save(save_path, feature)\n",
    "\n",
    "    \n",
    "    def _save(data, save_path):\n",
    "        with open(save_path, \"wb\") as f:\n",
    "            pickle.dump(data, f)\n",
    "\n",
    "    def _generate_save_path(self, file_path):\n",
    "        file_name = os.path.split(file_path)[1]\n",
    "        save_path = os.path.join(self.feature_save_dir, file_name + \".npy\")\n",
    "        return save_path"
   ]
  },
  {
   "cell_type": "code",
   "execution_count": 6,
   "id": "5f3f539c-38f7-4c2d-928c-f881a7160831",
   "metadata": {},
   "outputs": [],
   "source": [
    "class PreprocessingPipeline:\n",
    "    \"\"\"PreprocessingPipeline processes audio files in a directory, applying\n",
    "    the following steps to each file:\n",
    "        1- load a file\n",
    "        2- pad the signal (if necessary)\n",
    "        3- extracting log spectrogram from signal\n",
    "        4- normalise spectrogram\n",
    "        5- save the normalised spectrogram\n",
    "    Storing the min max values for all the log spectrograms.\n",
    "    \"\"\"\n",
    "\n",
    "    def __init__(self):\n",
    "        self.extractor = None\n",
    "        self.normaliser = None\n",
    "        self.saver = None\n",
    "        self._loader = None\n",
    "        self._num_expected_samples = None\n",
    "\n",
    "    \n",
    "    def loader(self):\n",
    "        return self._loader\n",
    "\n",
    "    def process(self, audio_files_dir):\n",
    "        for root, _, files in os.walk(audio_files_dir):\n",
    "            for file in files:\n",
    "                file_path = os.path.join(root, file)\n",
    "                self._process_file(file_path)\n",
    "                print(f\"Processed file {file_path}\")\n",
    "        \n",
    "    def _process_file(self, file_path):\n",
    "        signal = self.loader.load(file_path)\n",
    "        feature = self.extractor.extract(signal)\n",
    "        save_path = self.saver.save_feature(feature, file_path)\n"
   ]
  },
  {
   "cell_type": "code",
   "execution_count": 7,
   "id": "795334e9-001a-4c2c-8802-9a3d5dd9f011",
   "metadata": {},
   "outputs": [
    {
     "name": "stdout",
     "output_type": "stream",
     "text": [
      "Processed file demo\\00003.wav\n",
      "Processed file demo\\7383-3-0-1.wav\n"
     ]
    }
   ],
   "source": [
    "if __name__ == \"__main__\":\n",
    "    FRAME_SIZE = 256\n",
    "    HOP_LENGTH = 512\n",
    "    SAMPLE_RATE = 16000\n",
    "    MONO = True\n",
    "\n",
    "    SPECTROGRAMS_SAVE_DIR = \"spec save\"\n",
    "    FILES_DIR = \"demo\"\n",
    "\n",
    "    # instantiate all objects\n",
    "    loader = Loader(SAMPLE_RATE, MONO)\n",
    "    mel_spectrogram_extractor = MelSpectrogramExtractor(FRAME_SIZE, HOP_LENGTH)\n",
    "    saver = Saver(SPECTROGRAMS_SAVE_DIR)\n",
    "\n",
    "    preprocessing_pipeline = PreprocessingPipeline()\n",
    "    preprocessing_pipeline.loader = loader\n",
    "    preprocessing_pipeline.extractor = mel_spectrogram_extractor\n",
    "    preprocessing_pipeline.saver = saver\n",
    "\n",
    "    preprocessing_pipeline.process(FILES_DIR)"
   ]
  },
  {
   "cell_type": "code",
   "execution_count": 8,
   "id": "0b6fd2a5-705e-4af6-a7c6-a05da211c78f",
   "metadata": {},
   "outputs": [
    {
     "name": "stdout",
     "output_type": "stream",
     "text": [
      "[[-80.       -80.       -80.       ... -80.       -80.       -80.      ]\n",
      " [-80.       -80.       -80.       ... -80.       -76.38227  -80.      ]\n",
      " [-80.       -80.       -80.       ... -80.       -77.852036 -80.      ]\n",
      " ...\n",
      " [-80.       -80.       -80.       ... -80.       -80.       -80.      ]\n",
      " [-80.       -80.       -80.       ... -80.       -80.       -80.      ]\n",
      " [-80.       -80.       -80.       ... -80.       -80.       -80.      ]]\n"
     ]
    },
    {
     "data": {
      "image/png": "[encoded data removed]",
      "text/plain": [
       "<Figure size 432x288 with 1 Axes>"
      ]
     },
     "metadata": {
      "needs_background": "light"
     },
     "output_type": "display_data"
    }
   ],
   "source": [
    "demo = np.load(\"spec save/7383-3-0-1.wav.npy\")\n",
    "print(demo)\n",
    "plt.imshow(demo, cmap='gray')\n",
    "plt.show()"
   ]
  },
  {
   "cell_type": "code",
   "execution_count": 9,
   "id": "40dc19df-bd89-434d-bfce-b32d1b85184f",
   "metadata": {},
   "outputs": [
    {
     "name": "stdout",
     "output_type": "stream",
     "text": [
      "[[-69.68804  -79.12628  -80.       ... -80.       -80.       -80.      ]\n",
      " [-69.0916   -77.965645 -80.       ... -80.       -80.       -80.      ]\n",
      " [-70.58351  -77.17294  -80.       ... -80.       -80.       -80.      ]\n",
      " ...\n",
      " [-80.       -80.       -80.       ... -80.       -80.       -80.      ]\n",
      " [-80.       -80.       -80.       ... -80.       -80.       -80.      ]\n",
      " [-80.       -80.       -80.       ... -80.       -80.       -80.      ]]\n"
     ]
    }
   ],
   "source": [
    "demo = np.load(\"spec save/00003.wav.npy\")\n",
    "print(demo)"
   ]
  },
  {
   "cell_type": "code",
   "execution_count": 10,
   "id": "6397bb0f-7349-4a5f-916f-99069c2d970b",
   "metadata": {},
   "outputs": [
    {
     "data": {
      "image/png": "[encoded data removed]",
      "text/plain": [
       "<Figure size 432x288 with 1 Axes>"
      ]
     },
     "metadata": {
      "needs_background": "light"
     },
     "output_type": "display_data"
    }
   ],
   "source": [
    "plt.imshow(demo, cmap='gray')\n",
    "plt.show()"
   ]
  },
  {
   "cell_type": "code",
   "execution_count": null,
   "id": "b852f9f5-1107-4e9e-9bea-f9b1e36ad511",
   "metadata": {},
   "outputs": [],
   "source": []
  }
 ],
 "metadata": {
  "kernelspec": {
   "display_name": "Python 3 (ipykernel)",
   "language": "python",
   "name": "python3"
  },
  "language_info": {
   "codemirror_mode": {
    "name": "ipython",
    "version": 3
   },
   "file_extension": ".py",
   "mimetype": "text/x-python",
   "name": "python",
   "nbconvert_exporter": "python",
   "pygments_lexer": "ipython3",
   "version": "3.9.12"
  }
 },
 "nbformat": 4,
 "nbformat_minor": 5
}
